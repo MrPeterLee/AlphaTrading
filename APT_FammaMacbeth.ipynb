{
 "cells": [
  {
   "cell_type": "markdown",
   "metadata": {},
   "source": [
    "# APT model: Famma-Macbeth Regression"
   ]
  },
  {
   "cell_type": "code",
   "execution_count": 1,
   "metadata": {},
   "outputs": [],
   "source": [
    "from rqdata_utils import *\n",
    "import pandas\n",
    "import numpy as np\n",
    "import scipy as sp\n",
    "import alphalens as al\n",
    "%matplotlib inline"
   ]
  },
  {
   "cell_type": "markdown",
   "metadata": {},
   "source": [
    "## Loading Data"
   ]
  },
  {
   "cell_type": "code",
   "execution_count": 2,
   "metadata": {},
   "outputs": [],
   "source": [
    "price_df,instrument_df,equity_df = get_price_instrument_equity(\"cn_stock_price_2012_2018.csv\",\"cn_instrument_info_2012_2018.csv\",\"cn_equity_daily_2012_2018.csv\",\"sectorCode\")"
   ]
  },
  {
   "cell_type": "code",
   "execution_count": 3,
   "metadata": {},
   "outputs": [
    {
     "data": {
      "text/html": [
       "<div>\n",
       "<style scoped>\n",
       "    .dataframe tbody tr th:only-of-type {\n",
       "        vertical-align: middle;\n",
       "    }\n",
       "\n",
       "    .dataframe tbody tr th {\n",
       "        vertical-align: top;\n",
       "    }\n",
       "\n",
       "    .dataframe thead th {\n",
       "        text-align: right;\n",
       "    }\n",
       "</style>\n",
       "<table border=\"1\" class=\"dataframe\">\n",
       "  <thead>\n",
       "    <tr style=\"text-align: right;\">\n",
       "      <th></th>\n",
       "      <th></th>\n",
       "      <th>return</th>\n",
       "      <th>close</th>\n",
       "      <th>total_turnover</th>\n",
       "      <th>volume</th>\n",
       "      <th>week</th>\n",
       "      <th>month</th>\n",
       "      <th>report_quarter</th>\n",
       "      <th>pb_ratio</th>\n",
       "      <th>net_profit</th>\n",
       "      <th>a_share_market_val_2</th>\n",
       "      <th>ps_ratio</th>\n",
       "      <th>cash_received_from_sales_of_goods</th>\n",
       "      <th>market_cap</th>\n",
       "      <th>sectorCode</th>\n",
       "    </tr>\n",
       "    <tr>\n",
       "      <th>date</th>\n",
       "      <th>order_book_id</th>\n",
       "      <th></th>\n",
       "      <th></th>\n",
       "      <th></th>\n",
       "      <th></th>\n",
       "      <th></th>\n",
       "      <th></th>\n",
       "      <th></th>\n",
       "      <th></th>\n",
       "      <th></th>\n",
       "      <th></th>\n",
       "      <th></th>\n",
       "      <th></th>\n",
       "      <th></th>\n",
       "      <th></th>\n",
       "    </tr>\n",
       "  </thead>\n",
       "  <tbody>\n",
       "    <tr>\n",
       "      <th rowspan=\"5\" valign=\"top\">2012-01-04</th>\n",
       "      <th>000001.XSHE</th>\n",
       "      <td>-0.027582</td>\n",
       "      <td>4.9886</td>\n",
       "      <td>2.275637e+08</td>\n",
       "      <td>40894428.0</td>\n",
       "      <td>0.5242</td>\n",
       "      <td>0.4331</td>\n",
       "      <td>NaN</td>\n",
       "      <td>NaN</td>\n",
       "      <td>NaN</td>\n",
       "      <td>NaN</td>\n",
       "      <td>NaN</td>\n",
       "      <td>NaN</td>\n",
       "      <td>NaN</td>\n",
       "      <td>Financials</td>\n",
       "    </tr>\n",
       "    <tr>\n",
       "      <th>000002.XSHE</th>\n",
       "      <td>-0.018742</td>\n",
       "      <td>5.6004</td>\n",
       "      <td>3.559891e+08</td>\n",
       "      <td>47432958.0</td>\n",
       "      <td>0.3887</td>\n",
       "      <td>0.4030</td>\n",
       "      <td>2011q3</td>\n",
       "      <td>1.5216</td>\n",
       "      <td>4.106349e+09</td>\n",
       "      <td>7.082120e+10</td>\n",
       "      <td>1.1227</td>\n",
       "      <td>7.516785e+10</td>\n",
       "      <td>8.059489e+10</td>\n",
       "      <td>RealEstate</td>\n",
       "    </tr>\n",
       "    <tr>\n",
       "      <th>000004.XSHE</th>\n",
       "      <td>-0.022250</td>\n",
       "      <td>7.9100</td>\n",
       "      <td>3.763833e+06</td>\n",
       "      <td>465469.0</td>\n",
       "      <td>0.5797</td>\n",
       "      <td>0.7506</td>\n",
       "      <td>2011q3</td>\n",
       "      <td>8.8175</td>\n",
       "      <td>4.500363e+06</td>\n",
       "      <td>6.634549e+08</td>\n",
       "      <td>8.9157</td>\n",
       "      <td>5.949968e+07</td>\n",
       "      <td>6.642556e+08</td>\n",
       "      <td>HealthCare</td>\n",
       "    </tr>\n",
       "    <tr>\n",
       "      <th>000005.XSHE</th>\n",
       "      <td>0.000000</td>\n",
       "      <td>3.8600</td>\n",
       "      <td>0.000000e+00</td>\n",
       "      <td>0.0</td>\n",
       "      <td>NaN</td>\n",
       "      <td>NaN</td>\n",
       "      <td>2011q3</td>\n",
       "      <td>5.3480</td>\n",
       "      <td>1.365665e+07</td>\n",
       "      <td>3.527048e+09</td>\n",
       "      <td>55.5494</td>\n",
       "      <td>2.565851e+07</td>\n",
       "      <td>3.529328e+09</td>\n",
       "      <td>Industrials</td>\n",
       "    </tr>\n",
       "    <tr>\n",
       "      <th>000006.XSHE</th>\n",
       "      <td>-0.009756</td>\n",
       "      <td>2.5072</td>\n",
       "      <td>7.619286e+06</td>\n",
       "      <td>2513811.0</td>\n",
       "      <td>0.1601</td>\n",
       "      <td>0.1667</td>\n",
       "      <td>2011q3</td>\n",
       "      <td>1.4348</td>\n",
       "      <td>2.763917e+08</td>\n",
       "      <td>3.929464e+09</td>\n",
       "      <td>1.5507</td>\n",
       "      <td>2.531436e+09</td>\n",
       "      <td>4.015370e+09</td>\n",
       "      <td>RealEstate</td>\n",
       "    </tr>\n",
       "  </tbody>\n",
       "</table>\n",
       "</div>"
      ],
      "text/plain": [
       "                            return   close  total_turnover      volume  \\\n",
       "date       order_book_id                                                 \n",
       "2012-01-04 000001.XSHE   -0.027582  4.9886    2.275637e+08  40894428.0   \n",
       "           000002.XSHE   -0.018742  5.6004    3.559891e+08  47432958.0   \n",
       "           000004.XSHE   -0.022250  7.9100    3.763833e+06    465469.0   \n",
       "           000005.XSHE    0.000000  3.8600    0.000000e+00         0.0   \n",
       "           000006.XSHE   -0.009756  2.5072    7.619286e+06   2513811.0   \n",
       "\n",
       "                            week   month report_quarter  pb_ratio  \\\n",
       "date       order_book_id                                            \n",
       "2012-01-04 000001.XSHE    0.5242  0.4331            NaN       NaN   \n",
       "           000002.XSHE    0.3887  0.4030         2011q3    1.5216   \n",
       "           000004.XSHE    0.5797  0.7506         2011q3    8.8175   \n",
       "           000005.XSHE       NaN     NaN         2011q3    5.3480   \n",
       "           000006.XSHE    0.1601  0.1667         2011q3    1.4348   \n",
       "\n",
       "                            net_profit  a_share_market_val_2  ps_ratio  \\\n",
       "date       order_book_id                                                 \n",
       "2012-01-04 000001.XSHE             NaN                   NaN       NaN   \n",
       "           000002.XSHE    4.106349e+09          7.082120e+10    1.1227   \n",
       "           000004.XSHE    4.500363e+06          6.634549e+08    8.9157   \n",
       "           000005.XSHE    1.365665e+07          3.527048e+09   55.5494   \n",
       "           000006.XSHE    2.763917e+08          3.929464e+09    1.5507   \n",
       "\n",
       "                          cash_received_from_sales_of_goods    market_cap  \\\n",
       "date       order_book_id                                                    \n",
       "2012-01-04 000001.XSHE                                  NaN           NaN   \n",
       "           000002.XSHE                         7.516785e+10  8.059489e+10   \n",
       "           000004.XSHE                         5.949968e+07  6.642556e+08   \n",
       "           000005.XSHE                         2.565851e+07  3.529328e+09   \n",
       "           000006.XSHE                         2.531436e+09  4.015370e+09   \n",
       "\n",
       "                           sectorCode  \n",
       "date       order_book_id               \n",
       "2012-01-04 000001.XSHE     Financials  \n",
       "           000002.XSHE     RealEstate  \n",
       "           000004.XSHE     HealthCare  \n",
       "           000005.XSHE    Industrials  \n",
       "           000006.XSHE     RealEstate  "
      ]
     },
     "execution_count": 3,
     "metadata": {},
     "output_type": "execute_result"
    }
   ],
   "source": [
    "equity_df.head()"
   ]
  },
  {
   "cell_type": "code",
   "execution_count": 4,
   "metadata": {},
   "outputs": [
    {
     "data": {
      "text/plain": [
       "172"
      ]
     },
     "execution_count": 4,
     "metadata": {},
     "output_type": "execute_result"
    }
   ],
   "source": [
    "healthcareUniverse = instrument_df.index[instrument_df.sectorCode=='HealthCare'].values\n",
    "len(healthcareUniverse)"
   ]
  },
  {
   "cell_type": "code",
   "execution_count": 5,
   "metadata": {},
   "outputs": [],
   "source": [
    "def equity_universe_filtering(equity_df, universe):\n",
    "    universeFilter = [book_id in set(universe) for book_id in equity_df.index.get_level_values(level=1).values]\n",
    "    return equity_df[universeFilter]"
   ]
  },
  {
   "cell_type": "code",
   "execution_count": 6,
   "metadata": {},
   "outputs": [
    {
     "data": {
      "text/html": [
       "<div>\n",
       "<style scoped>\n",
       "    .dataframe tbody tr th:only-of-type {\n",
       "        vertical-align: middle;\n",
       "    }\n",
       "\n",
       "    .dataframe tbody tr th {\n",
       "        vertical-align: top;\n",
       "    }\n",
       "\n",
       "    .dataframe thead th {\n",
       "        text-align: right;\n",
       "    }\n",
       "</style>\n",
       "<table border=\"1\" class=\"dataframe\">\n",
       "  <thead>\n",
       "    <tr style=\"text-align: right;\">\n",
       "      <th></th>\n",
       "      <th></th>\n",
       "      <th>return</th>\n",
       "      <th>close</th>\n",
       "      <th>total_turnover</th>\n",
       "      <th>volume</th>\n",
       "      <th>week</th>\n",
       "      <th>month</th>\n",
       "      <th>report_quarter</th>\n",
       "      <th>pb_ratio</th>\n",
       "      <th>net_profit</th>\n",
       "      <th>a_share_market_val_2</th>\n",
       "      <th>ps_ratio</th>\n",
       "      <th>cash_received_from_sales_of_goods</th>\n",
       "      <th>market_cap</th>\n",
       "      <th>sectorCode</th>\n",
       "    </tr>\n",
       "    <tr>\n",
       "      <th>date</th>\n",
       "      <th>order_book_id</th>\n",
       "      <th></th>\n",
       "      <th></th>\n",
       "      <th></th>\n",
       "      <th></th>\n",
       "      <th></th>\n",
       "      <th></th>\n",
       "      <th></th>\n",
       "      <th></th>\n",
       "      <th></th>\n",
       "      <th></th>\n",
       "      <th></th>\n",
       "      <th></th>\n",
       "      <th></th>\n",
       "      <th></th>\n",
       "    </tr>\n",
       "  </thead>\n",
       "  <tbody>\n",
       "    <tr>\n",
       "      <th rowspan=\"5\" valign=\"top\">2012-01-04</th>\n",
       "      <th>000004.XSHE</th>\n",
       "      <td>-0.022250</td>\n",
       "      <td>7.9100</td>\n",
       "      <td>3763832.88</td>\n",
       "      <td>465469.0</td>\n",
       "      <td>0.5797</td>\n",
       "      <td>0.7506</td>\n",
       "      <td>2011q3</td>\n",
       "      <td>8.8175</td>\n",
       "      <td>4.500363e+06</td>\n",
       "      <td>6.634549e+08</td>\n",
       "      <td>8.9157</td>\n",
       "      <td>5.949968e+07</td>\n",
       "      <td>6.642556e+08</td>\n",
       "      <td>HealthCare</td>\n",
       "    </tr>\n",
       "    <tr>\n",
       "      <th>000028.XSHE</th>\n",
       "      <td>-0.045433</td>\n",
       "      <td>19.5320</td>\n",
       "      <td>9326924.28</td>\n",
       "      <td>450553.0</td>\n",
       "      <td>0.4291</td>\n",
       "      <td>0.2722</td>\n",
       "      <td>2011q3</td>\n",
       "      <td>4.3493</td>\n",
       "      <td>2.481834e+08</td>\n",
       "      <td>4.753820e+09</td>\n",
       "      <td>0.3876</td>\n",
       "      <td>1.053298e+10</td>\n",
       "      <td>5.872485e+09</td>\n",
       "      <td>HealthCare</td>\n",
       "    </tr>\n",
       "    <tr>\n",
       "      <th>000150.XSHE</th>\n",
       "      <td>-0.030295</td>\n",
       "      <td>1.6133</td>\n",
       "      <td>3109304.50</td>\n",
       "      <td>1867096.0</td>\n",
       "      <td>0.3647</td>\n",
       "      <td>0.3610</td>\n",
       "      <td>2011q3</td>\n",
       "      <td>1.4763</td>\n",
       "      <td>3.657858e+06</td>\n",
       "      <td>1.036800e+09</td>\n",
       "      <td>9.8634</td>\n",
       "      <td>4.913279e+07</td>\n",
       "      <td>1.036800e+09</td>\n",
       "      <td>HealthCare</td>\n",
       "    </tr>\n",
       "    <tr>\n",
       "      <th>000153.XSHE</th>\n",
       "      <td>-0.028053</td>\n",
       "      <td>5.6757</td>\n",
       "      <td>9673054.49</td>\n",
       "      <td>1596020.0</td>\n",
       "      <td>0.8331</td>\n",
       "      <td>2.4594</td>\n",
       "      <td>2011q3</td>\n",
       "      <td>2.1169</td>\n",
       "      <td>1.560397e+07</td>\n",
       "      <td>1.360856e+09</td>\n",
       "      <td>1.0068</td>\n",
       "      <td>1.329425e+09</td>\n",
       "      <td>1.531454e+09</td>\n",
       "      <td>HealthCare</td>\n",
       "    </tr>\n",
       "    <tr>\n",
       "      <th>000403.XSHE</th>\n",
       "      <td>0.000000</td>\n",
       "      <td>3.1625</td>\n",
       "      <td>0.00</td>\n",
       "      <td>0.0</td>\n",
       "      <td>NaN</td>\n",
       "      <td>NaN</td>\n",
       "      <td>2011q3</td>\n",
       "      <td>5.4237</td>\n",
       "      <td>1.043543e+07</td>\n",
       "      <td>5.135403e+08</td>\n",
       "      <td>2.3231</td>\n",
       "      <td>3.813537e+08</td>\n",
       "      <td>1.071118e+09</td>\n",
       "      <td>HealthCare</td>\n",
       "    </tr>\n",
       "  </tbody>\n",
       "</table>\n",
       "</div>"
      ],
      "text/plain": [
       "                            return    close  total_turnover     volume  \\\n",
       "date       order_book_id                                                 \n",
       "2012-01-04 000004.XSHE   -0.022250   7.9100      3763832.88   465469.0   \n",
       "           000028.XSHE   -0.045433  19.5320      9326924.28   450553.0   \n",
       "           000150.XSHE   -0.030295   1.6133      3109304.50  1867096.0   \n",
       "           000153.XSHE   -0.028053   5.6757      9673054.49  1596020.0   \n",
       "           000403.XSHE    0.000000   3.1625            0.00        0.0   \n",
       "\n",
       "                            week   month report_quarter  pb_ratio  \\\n",
       "date       order_book_id                                            \n",
       "2012-01-04 000004.XSHE    0.5797  0.7506         2011q3    8.8175   \n",
       "           000028.XSHE    0.4291  0.2722         2011q3    4.3493   \n",
       "           000150.XSHE    0.3647  0.3610         2011q3    1.4763   \n",
       "           000153.XSHE    0.8331  2.4594         2011q3    2.1169   \n",
       "           000403.XSHE       NaN     NaN         2011q3    5.4237   \n",
       "\n",
       "                            net_profit  a_share_market_val_2  ps_ratio  \\\n",
       "date       order_book_id                                                 \n",
       "2012-01-04 000004.XSHE    4.500363e+06          6.634549e+08    8.9157   \n",
       "           000028.XSHE    2.481834e+08          4.753820e+09    0.3876   \n",
       "           000150.XSHE    3.657858e+06          1.036800e+09    9.8634   \n",
       "           000153.XSHE    1.560397e+07          1.360856e+09    1.0068   \n",
       "           000403.XSHE    1.043543e+07          5.135403e+08    2.3231   \n",
       "\n",
       "                          cash_received_from_sales_of_goods    market_cap  \\\n",
       "date       order_book_id                                                    \n",
       "2012-01-04 000004.XSHE                         5.949968e+07  6.642556e+08   \n",
       "           000028.XSHE                         1.053298e+10  5.872485e+09   \n",
       "           000150.XSHE                         4.913279e+07  1.036800e+09   \n",
       "           000153.XSHE                         1.329425e+09  1.531454e+09   \n",
       "           000403.XSHE                         3.813537e+08  1.071118e+09   \n",
       "\n",
       "                          sectorCode  \n",
       "date       order_book_id              \n",
       "2012-01-04 000004.XSHE    HealthCare  \n",
       "           000028.XSHE    HealthCare  \n",
       "           000150.XSHE    HealthCare  \n",
       "           000153.XSHE    HealthCare  \n",
       "           000403.XSHE    HealthCare  "
      ]
     },
     "execution_count": 6,
     "metadata": {},
     "output_type": "execute_result"
    }
   ],
   "source": [
    "healthcare_equity_df = equity_universe_filtering(equity_df, healthcareUniverse)\n",
    "healthcare_equity_df.head()"
   ]
  },
  {
   "cell_type": "code",
   "execution_count": 7,
   "metadata": {},
   "outputs": [
    {
     "name": "stdout",
     "output_type": "stream",
     "text": [
      "universe ratio: 7.367776097902626%\n"
     ]
    }
   ],
   "source": [
    "print(\"universe ratio: {}%\".format(len(healthcare_equity_df)/len(equity_df)*100))"
   ]
  },
  {
   "cell_type": "markdown",
   "metadata": {},
   "source": [
    "### benchmark"
   ]
  },
  {
   "cell_type": "code",
   "execution_count": 8,
   "metadata": {},
   "outputs": [
    {
     "ename": "FileNotFoundError",
     "evalue": "[Errno 2] File b'cn_SH_healthcare_index_2012_2018.csv' does not exist: b'cn_SH_healthcare_index_2012_2018.csv'",
     "output_type": "error",
     "traceback": [
      "\u001b[0;31m---------------------------------------------------------------------------\u001b[0m",
      "\u001b[0;31mFileNotFoundError\u001b[0m                         Traceback (most recent call last)",
      "\u001b[0;32m<ipython-input-8-f9a4d18d626d>\u001b[0m in \u001b[0;36m<module>\u001b[0;34m\u001b[0m\n\u001b[0;32m----> 1\u001b[0;31m \u001b[0mbenchmark_df\u001b[0m \u001b[0;34m=\u001b[0m \u001b[0mpd\u001b[0m\u001b[0;34m.\u001b[0m\u001b[0mread_csv\u001b[0m\u001b[0;34m(\u001b[0m\u001b[0;34m\"cn_SH_healthcare_index_2012_2018.csv\"\u001b[0m\u001b[0;34m,\u001b[0m\u001b[0mnames\u001b[0m\u001b[0;34m=\u001b[0m\u001b[0;34m[\u001b[0m\u001b[0;34m'date'\u001b[0m\u001b[0;34m,\u001b[0m\u001b[0;34m'value'\u001b[0m\u001b[0;34m]\u001b[0m\u001b[0;34m)\u001b[0m\u001b[0;34m\u001b[0m\u001b[0;34m\u001b[0m\u001b[0m\n\u001b[0m\u001b[1;32m      2\u001b[0m \u001b[0mbenchmark_df\u001b[0m \u001b[0;34m=\u001b[0m \u001b[0mbenchmark_df\u001b[0m\u001b[0;34m.\u001b[0m\u001b[0mset_index\u001b[0m\u001b[0;34m(\u001b[0m\u001b[0;34m'date'\u001b[0m\u001b[0;34m,\u001b[0m\u001b[0mdrop\u001b[0m\u001b[0;34m=\u001b[0m\u001b[0;32mTrue\u001b[0m\u001b[0;34m)\u001b[0m\u001b[0;34m\u001b[0m\u001b[0;34m\u001b[0m\u001b[0m\n",
      "\u001b[0;32m~/.conda/envs/finclab/lib/python3.6/site-packages/pandas/io/parsers.py\u001b[0m in \u001b[0;36mparser_f\u001b[0;34m(filepath_or_buffer, sep, delimiter, header, names, index_col, usecols, squeeze, prefix, mangle_dupe_cols, dtype, engine, converters, true_values, false_values, skipinitialspace, skiprows, skipfooter, nrows, na_values, keep_default_na, na_filter, verbose, skip_blank_lines, parse_dates, infer_datetime_format, keep_date_col, date_parser, dayfirst, cache_dates, iterator, chunksize, compression, thousands, decimal, lineterminator, quotechar, quoting, doublequote, escapechar, comment, encoding, dialect, error_bad_lines, warn_bad_lines, delim_whitespace, low_memory, memory_map, float_precision)\u001b[0m\n\u001b[1;32m    683\u001b[0m         )\n\u001b[1;32m    684\u001b[0m \u001b[0;34m\u001b[0m\u001b[0m\n\u001b[0;32m--> 685\u001b[0;31m         \u001b[0;32mreturn\u001b[0m \u001b[0m_read\u001b[0m\u001b[0;34m(\u001b[0m\u001b[0mfilepath_or_buffer\u001b[0m\u001b[0;34m,\u001b[0m \u001b[0mkwds\u001b[0m\u001b[0;34m)\u001b[0m\u001b[0;34m\u001b[0m\u001b[0;34m\u001b[0m\u001b[0m\n\u001b[0m\u001b[1;32m    686\u001b[0m \u001b[0;34m\u001b[0m\u001b[0m\n\u001b[1;32m    687\u001b[0m     \u001b[0mparser_f\u001b[0m\u001b[0;34m.\u001b[0m\u001b[0m__name__\u001b[0m \u001b[0;34m=\u001b[0m \u001b[0mname\u001b[0m\u001b[0;34m\u001b[0m\u001b[0;34m\u001b[0m\u001b[0m\n",
      "\u001b[0;32m~/.conda/envs/finclab/lib/python3.6/site-packages/pandas/io/parsers.py\u001b[0m in \u001b[0;36m_read\u001b[0;34m(filepath_or_buffer, kwds)\u001b[0m\n\u001b[1;32m    455\u001b[0m \u001b[0;34m\u001b[0m\u001b[0m\n\u001b[1;32m    456\u001b[0m     \u001b[0;31m# Create the parser.\u001b[0m\u001b[0;34m\u001b[0m\u001b[0;34m\u001b[0m\u001b[0;34m\u001b[0m\u001b[0m\n\u001b[0;32m--> 457\u001b[0;31m     \u001b[0mparser\u001b[0m \u001b[0;34m=\u001b[0m \u001b[0mTextFileReader\u001b[0m\u001b[0;34m(\u001b[0m\u001b[0mfp_or_buf\u001b[0m\u001b[0;34m,\u001b[0m \u001b[0;34m**\u001b[0m\u001b[0mkwds\u001b[0m\u001b[0;34m)\u001b[0m\u001b[0;34m\u001b[0m\u001b[0;34m\u001b[0m\u001b[0m\n\u001b[0m\u001b[1;32m    458\u001b[0m \u001b[0;34m\u001b[0m\u001b[0m\n\u001b[1;32m    459\u001b[0m     \u001b[0;32mif\u001b[0m \u001b[0mchunksize\u001b[0m \u001b[0;32mor\u001b[0m \u001b[0miterator\u001b[0m\u001b[0;34m:\u001b[0m\u001b[0;34m\u001b[0m\u001b[0;34m\u001b[0m\u001b[0m\n",
      "\u001b[0;32m~/.conda/envs/finclab/lib/python3.6/site-packages/pandas/io/parsers.py\u001b[0m in \u001b[0;36m__init__\u001b[0;34m(self, f, engine, **kwds)\u001b[0m\n\u001b[1;32m    893\u001b[0m             \u001b[0mself\u001b[0m\u001b[0;34m.\u001b[0m\u001b[0moptions\u001b[0m\u001b[0;34m[\u001b[0m\u001b[0;34m\"has_index_names\"\u001b[0m\u001b[0;34m]\u001b[0m \u001b[0;34m=\u001b[0m \u001b[0mkwds\u001b[0m\u001b[0;34m[\u001b[0m\u001b[0;34m\"has_index_names\"\u001b[0m\u001b[0;34m]\u001b[0m\u001b[0;34m\u001b[0m\u001b[0;34m\u001b[0m\u001b[0m\n\u001b[1;32m    894\u001b[0m \u001b[0;34m\u001b[0m\u001b[0m\n\u001b[0;32m--> 895\u001b[0;31m         \u001b[0mself\u001b[0m\u001b[0;34m.\u001b[0m\u001b[0m_make_engine\u001b[0m\u001b[0;34m(\u001b[0m\u001b[0mself\u001b[0m\u001b[0;34m.\u001b[0m\u001b[0mengine\u001b[0m\u001b[0;34m)\u001b[0m\u001b[0;34m\u001b[0m\u001b[0;34m\u001b[0m\u001b[0m\n\u001b[0m\u001b[1;32m    896\u001b[0m \u001b[0;34m\u001b[0m\u001b[0m\n\u001b[1;32m    897\u001b[0m     \u001b[0;32mdef\u001b[0m \u001b[0mclose\u001b[0m\u001b[0;34m(\u001b[0m\u001b[0mself\u001b[0m\u001b[0;34m)\u001b[0m\u001b[0;34m:\u001b[0m\u001b[0;34m\u001b[0m\u001b[0;34m\u001b[0m\u001b[0m\n",
      "\u001b[0;32m~/.conda/envs/finclab/lib/python3.6/site-packages/pandas/io/parsers.py\u001b[0m in \u001b[0;36m_make_engine\u001b[0;34m(self, engine)\u001b[0m\n\u001b[1;32m   1133\u001b[0m     \u001b[0;32mdef\u001b[0m \u001b[0m_make_engine\u001b[0m\u001b[0;34m(\u001b[0m\u001b[0mself\u001b[0m\u001b[0;34m,\u001b[0m \u001b[0mengine\u001b[0m\u001b[0;34m=\u001b[0m\u001b[0;34m\"c\"\u001b[0m\u001b[0;34m)\u001b[0m\u001b[0;34m:\u001b[0m\u001b[0;34m\u001b[0m\u001b[0;34m\u001b[0m\u001b[0m\n\u001b[1;32m   1134\u001b[0m         \u001b[0;32mif\u001b[0m \u001b[0mengine\u001b[0m \u001b[0;34m==\u001b[0m \u001b[0;34m\"c\"\u001b[0m\u001b[0;34m:\u001b[0m\u001b[0;34m\u001b[0m\u001b[0;34m\u001b[0m\u001b[0m\n\u001b[0;32m-> 1135\u001b[0;31m             \u001b[0mself\u001b[0m\u001b[0;34m.\u001b[0m\u001b[0m_engine\u001b[0m \u001b[0;34m=\u001b[0m \u001b[0mCParserWrapper\u001b[0m\u001b[0;34m(\u001b[0m\u001b[0mself\u001b[0m\u001b[0;34m.\u001b[0m\u001b[0mf\u001b[0m\u001b[0;34m,\u001b[0m \u001b[0;34m**\u001b[0m\u001b[0mself\u001b[0m\u001b[0;34m.\u001b[0m\u001b[0moptions\u001b[0m\u001b[0;34m)\u001b[0m\u001b[0;34m\u001b[0m\u001b[0;34m\u001b[0m\u001b[0m\n\u001b[0m\u001b[1;32m   1136\u001b[0m         \u001b[0;32melse\u001b[0m\u001b[0;34m:\u001b[0m\u001b[0;34m\u001b[0m\u001b[0;34m\u001b[0m\u001b[0m\n\u001b[1;32m   1137\u001b[0m             \u001b[0;32mif\u001b[0m \u001b[0mengine\u001b[0m \u001b[0;34m==\u001b[0m \u001b[0;34m\"python\"\u001b[0m\u001b[0;34m:\u001b[0m\u001b[0;34m\u001b[0m\u001b[0;34m\u001b[0m\u001b[0m\n",
      "\u001b[0;32m~/.conda/envs/finclab/lib/python3.6/site-packages/pandas/io/parsers.py\u001b[0m in \u001b[0;36m__init__\u001b[0;34m(self, src, **kwds)\u001b[0m\n\u001b[1;32m   1915\u001b[0m         \u001b[0mkwds\u001b[0m\u001b[0;34m[\u001b[0m\u001b[0;34m\"usecols\"\u001b[0m\u001b[0;34m]\u001b[0m \u001b[0;34m=\u001b[0m \u001b[0mself\u001b[0m\u001b[0;34m.\u001b[0m\u001b[0musecols\u001b[0m\u001b[0;34m\u001b[0m\u001b[0;34m\u001b[0m\u001b[0m\n\u001b[1;32m   1916\u001b[0m \u001b[0;34m\u001b[0m\u001b[0m\n\u001b[0;32m-> 1917\u001b[0;31m         \u001b[0mself\u001b[0m\u001b[0;34m.\u001b[0m\u001b[0m_reader\u001b[0m \u001b[0;34m=\u001b[0m \u001b[0mparsers\u001b[0m\u001b[0;34m.\u001b[0m\u001b[0mTextReader\u001b[0m\u001b[0;34m(\u001b[0m\u001b[0msrc\u001b[0m\u001b[0;34m,\u001b[0m \u001b[0;34m**\u001b[0m\u001b[0mkwds\u001b[0m\u001b[0;34m)\u001b[0m\u001b[0;34m\u001b[0m\u001b[0;34m\u001b[0m\u001b[0m\n\u001b[0m\u001b[1;32m   1918\u001b[0m         \u001b[0mself\u001b[0m\u001b[0;34m.\u001b[0m\u001b[0munnamed_cols\u001b[0m \u001b[0;34m=\u001b[0m \u001b[0mself\u001b[0m\u001b[0;34m.\u001b[0m\u001b[0m_reader\u001b[0m\u001b[0;34m.\u001b[0m\u001b[0munnamed_cols\u001b[0m\u001b[0;34m\u001b[0m\u001b[0;34m\u001b[0m\u001b[0m\n\u001b[1;32m   1919\u001b[0m \u001b[0;34m\u001b[0m\u001b[0m\n",
      "\u001b[0;32mpandas/_libs/parsers.pyx\u001b[0m in \u001b[0;36mpandas._libs.parsers.TextReader.__cinit__\u001b[0;34m()\u001b[0m\n",
      "\u001b[0;32mpandas/_libs/parsers.pyx\u001b[0m in \u001b[0;36mpandas._libs.parsers.TextReader._setup_parser_source\u001b[0;34m()\u001b[0m\n",
      "\u001b[0;31mFileNotFoundError\u001b[0m: [Errno 2] File b'cn_SH_healthcare_index_2012_2018.csv' does not exist: b'cn_SH_healthcare_index_2012_2018.csv'"
     ]
    }
   ],
   "source": [
    "benchmark_df = pd.read_csv(\"cn_SH_healthcare_index_2012_2018.csv\",names=['date','value'])\n",
    "benchmark_df = benchmark_df.set_index('date',drop=True)"
   ]
  },
  {
   "cell_type": "code",
   "execution_count": null,
   "metadata": {},
   "outputs": [],
   "source": [
    "benchmark_df['return'] = np.log(benchmark_df.shift(1)/benchmark_df).fillna(0)\n",
    "benchmark_df.head()"
   ]
  },
  {
   "cell_type": "markdown",
   "metadata": {},
   "source": [
    "## Factor Returns"
   ]
  },
  {
   "cell_type": "code",
   "execution_count": null,
   "metadata": {},
   "outputs": [],
   "source": [
    "def equity_factor_return(equity_df, factorColumn, nAllocations, longTop=True):\n",
    "    equity_copy = equity_df.copy()\n",
    "#     equity_copy[\"{}_rank\".format(factorColumn)] = equity_copy.groupby(level='date')[factorColumn].rank()\n",
    "#     equity_copy[equity_copy.groupby(level='date')[factorColumn].nlargest(nAllocations).index][\"biggest_{}_{}\".format(nAllocations,factorColumn)]=True\n",
    "    largest = equity_copy[factorColumn].groupby(level='date').nlargest(nAllocations).reset_index(level=0,drop=True)\n",
    "    smallest = equity_copy[factorColumn].groupby(level='date').nsmallest(nAllocations).reset_index(level=0,drop=True)\n",
    "    r_largest = equity_copy.loc[largest.index,'return'].groupby(level='date').mean()\n",
    "    r_smallest = equity_copy.loc[smallest.index,'return'].groupby(level='date').mean()\n",
    "    LMS = r_largest - r_smallest\n",
    "    if(longTop):\n",
    "        return LMS\n",
    "    else:\n",
    "        return -LMS"
   ]
  },
  {
   "cell_type": "code",
   "execution_count": null,
   "metadata": {},
   "outputs": [],
   "source": [
    "SMB = equity_factor_return(healthcare_equity_df, 'market_cap', 20,longTop=False)\n",
    "SMB.head()"
   ]
  },
  {
   "cell_type": "code",
   "execution_count": null,
   "metadata": {},
   "outputs": [],
   "source": [
    "HML = equity_factor_return(healthcare_equity_df, 'pb_ratio', 20,longTop=True)\n",
    "HML.head()"
   ]
  },
  {
   "cell_type": "code",
   "execution_count": null,
   "metadata": {},
   "outputs": [],
   "source": [
    "import itertools\n",
    "import statsmodels.api as sm\n",
    "from statsmodels import regression,stats\n",
    "import scipy\n",
    "\n",
    "data = healthcare_equity_df[['return']] # dataframe\n",
    "data = data.set_index(healthcare_equity_df.index) # elimilate redundant index (whole universe)\n",
    "asset_list_sizes = [group[1].size for group in data.groupby(level=0)]\n",
    "\n",
    "# Spreading the factor portfolio data across all assets for each day\n",
    "SMB_column = [[SMB.loc[group[0]]] * size for group, size \\\n",
    "              in zip(data.groupby(level=0), asset_list_sizes)]\n",
    "data['SMB'] = list(itertools.chain(*SMB_column))\n",
    "\n",
    "HML_column = [[HML.loc[group[0]]] * size for group, size \\\n",
    "              in zip(data.groupby(level=0), asset_list_sizes)]\n",
    "data['HML'] = list(itertools.chain(*HML_column))\n",
    "data = sm.add_constant(data.dropna())"
   ]
  },
  {
   "cell_type": "code",
   "execution_count": null,
   "metadata": {},
   "outputs": [],
   "source": [
    "data.head()"
   ]
  },
  {
   "cell_type": "markdown",
   "metadata": {},
   "source": [
    "## Factor Exposures ($\\beta$)"
   ]
  },
  {
   "cell_type": "code",
   "execution_count": null,
   "metadata": {},
   "outputs": [],
   "source": [
    "assets = data.index.levels[1].unique()\n",
    "Y = [data.xs(asset,level=1)['return'] for asset in assets]\n",
    "X = [data.xs(asset,level=1)[['SMB','HML','const']] for asset in assets]\n",
    "reg_results = [regression.linear_model.OLS(y,x).fit().params for y,x in zip(Y,X) if not(x.empty or y.empty)]\n",
    "indices = [asset for y, x, asset in zip(Y, X, assets) if not(x.empty or y.empty)]\n",
    "betas = pd.DataFrame(reg_results, index=indices)"
   ]
  },
  {
   "cell_type": "code",
   "execution_count": null,
   "metadata": {},
   "outputs": [],
   "source": [
    "betas.head()"
   ]
  },
  {
   "cell_type": "markdown",
   "metadata": {},
   "source": [
    "## Factor Premium"
   ]
  },
  {
   "cell_type": "code",
   "execution_count": null,
   "metadata": {},
   "outputs": [],
   "source": [
    "betas = sm.add_constant(betas.drop('const', axis=1))\n",
    "\n",
    "R = data['return'].mean(axis=0, level=1)\n",
    "\n",
    "# Second regression step: estimating the risk premia\n",
    "risk_free_rate = benchmark_df['return'].mean()\n",
    "\n",
    "final_results = regression.linear_model.OLS(R - risk_free_rate, betas).fit()\n",
    "\n",
    "final_results.summary()"
   ]
  },
  {
   "cell_type": "markdown",
   "metadata": {},
   "source": [
    "## Fama-Macbeth Test Conclusion: \n",
    "although our individual factors are significant, we have a very low  $R^2$ . What this may suggest is that there is a real link between our factors and the returns of our assets, but that there still remains a lot of unexplained noise!"
   ]
  },
  {
   "cell_type": "code",
   "execution_count": null,
   "metadata": {},
   "outputs": [],
   "source": []
  }
 ],
 "metadata": {
  "kernelspec": {
   "display_name": "Python 3",
   "language": "python",
   "name": "python3"
  },
  "language_info": {
   "codemirror_mode": {
    "name": "ipython",
    "version": 3
   },
   "file_extension": ".py",
   "mimetype": "text/x-python",
   "name": "python",
   "nbconvert_exporter": "python",
   "pygments_lexer": "ipython3",
   "version": "3.6.10"
  }
 },
 "nbformat": 4,
 "nbformat_minor": 2
}
